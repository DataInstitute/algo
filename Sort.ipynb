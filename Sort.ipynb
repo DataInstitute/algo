{
    "nbformat_minor": 1, 
    "cells": [
        {
            "source": "# Sort ", 
            "cell_type": "markdown", 
            "metadata": {
                "collapsed": true
            }
        }, 
        {
            "source": "Let's imagine the following problem :\nWe start with a series of numbers, e.g. the Lotto draw : [ 28, 4, 11, 32, 9, 40, 23, 17 ]\n![image.png](attachment:image.png)\n\nOur goal is to reorder them from smallest to biggest.\nIt seem obvious to a human, but remember that a program can *only* do basic operations such as :\n- iteration & retrieval\n- comparison\n- storage\n\n", 
            "cell_type": "markdown", 
            "attachments": {
                "image.png": {
                    "image/png": "[encoded data removed]"
                }
            }, 
            "metadata": {}
        }, 
        {
            "source": "## Bubble Sort", 
            "cell_type": "markdown", 
            "metadata": {}
        }, 
        {
            "source": "One of the simplest algorithms: compares numbers two by two, swapping the smallest to the left.", 
            "cell_type": "markdown", 
            "metadata": {}
        }, 
        {
            "execution_count": 2, 
            "cell_type": "code", 
            "metadata": {}, 
            "outputs": [
                {
                    "output_type": "stream", 
                    "name": "stdout", 
                    "text": "[4, 28, 11, 32, 9, 40, 23, 17]\n[4, 11, 28, 32, 9, 40, 23, 17]\n[4, 11, 28, 9, 32, 40, 23, 17]\n[4, 11, 28, 9, 32, 23, 40, 17]\n[4, 11, 28, 9, 32, 23, 17, 40]\n[4, 11, 9, 28, 32, 23, 17, 40]\n[4, 11, 9, 28, 23, 32, 17, 40]\n[4, 11, 9, 28, 23, 17, 32, 40]\n[4, 9, 11, 28, 23, 17, 32, 40]\n[4, 9, 11, 23, 28, 17, 32, 40]\n[4, 9, 11, 23, 17, 28, 32, 40]\n[4, 9, 11, 17, 23, 28, 32, 40]\nSorted list [4, 9, 11, 17, 23, 28, 32, 40]\n"
                }
            ], 
            "source": "def bubblesort(list):\n\n# Swap the elements to arrange in order\n    for iter_num in range(len(list)-1,0,-1):\n        for idx in range(iter_num):\n            if list[idx]>list[idx+1]:\n                temp = list[idx]\n                list[idx] = list[idx+1]\n                list[idx+1] = temp\n                print(list)\n\n\nlist = [ 28, 4, 11, 32, 9, 40, 23, 17 ]\nbubblesort(list)\nprint(\"Sorted list\", list)\n"
        }, 
        {
            "execution_count": null, 
            "cell_type": "code", 
            "metadata": {}, 
            "outputs": [], 
            "source": ""
        }
    ], 
    "metadata": {
        "kernelspec": {
            "display_name": "Python 3.5", 
            "name": "python3", 
            "language": "python"
        }, 
        "language_info": {
            "mimetype": "text/x-python", 
            "nbconvert_exporter": "python", 
            "version": "3.5.4", 
            "name": "python", 
            "file_extension": ".py", 
            "pygments_lexer": "ipython3", 
            "codemirror_mode": {
                "version": 3, 
                "name": "ipython"
            }
        }
    }, 
    "nbformat": 4
}