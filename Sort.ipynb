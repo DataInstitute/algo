{
    "nbformat_minor": 1, 
    "cells": [
        {
            "source": "# Sort ", 
            "cell_type": "markdown", 
            "metadata": {
                "collapsed": true
            }
        }, 
        {
            "source": "Let's imagine the following problem :\nWe start with a series of numbers, e.g. the Lotto draw : [ 28, 4, 11, 32, 9, 40, 23, 17 ]\n\nOur goal is to reorder them from smallest to biggest.\nIt seem obvious to a human, but remember that a program can *only* do basic operations such as :\n- iteration & retrieval\n- comparison\n- storage\n\nLet's compare some sorting algorithms.", 
            "cell_type": "markdown", 
            "attachments": {}, 
            "metadata": {}
        }, 
        {
            "source": "## Bubble Sort", 
            "cell_type": "markdown", 
            "metadata": {}
        }, 
        {
            "source": "One of the simplest algorithms: compares numbers two by two, swapping the smallest to the left.", 
            "cell_type": "markdown", 
            "metadata": {}
        }, 
        {
            "execution_count": null, 
            "cell_type": "code", 
            "metadata": {}, 
            "outputs": [], 
            "source": "def bubblesort(list):\n\n# Swap the elements to arrange in order\n    for iter_num in range(len(list)-1,0,-1):\n        for idx in range(iter_num):\n            if list[idx]>list[idx+1]:\n                temp = list[idx]\n                list[idx] = list[idx+1]\n                list[idx+1] = temp\n                print(list)\n\n\nlist = [ 28, 4, 11, 32, 9, 22, 3, 40, 23, 17, 10 ]\nbubblesort(list)\nprint(\"Sorted list\", list)\n"
        }, 
        {
            "source": "## Insertion sort", 
            "cell_type": "markdown", 
            "metadata": {}
        }, 
        {
            "execution_count": null, 
            "cell_type": "code", 
            "metadata": {}, 
            "outputs": [], 
            "source": "def insertion_sort(InputList):\n    for i in range(1, len(InputList)):\n        j = i-1\n        nxt_element = InputList[i]\n# Compare the current element with next one\n\t\t\n        while (InputList[j] > nxt_element) and (j >= 0):\n            InputList[j+1] = InputList[j]\n            j=j-1\n        InputList[j+1] = nxt_element\n        print(list)\n\nlist = [ 28, 4, 11, 32, 9, 22, 3, 40, 23, 17, 10 ]\ninsertion_sort(list)\nprint(\"Sorted list\", list)"
        }, 
        {
            "source": "## Selection sort", 
            "cell_type": "markdown", 
            "metadata": {}
        }, 
        {
            "execution_count": null, 
            "cell_type": "code", 
            "metadata": {}, 
            "outputs": [], 
            "source": "def selection_sort(input_list):\n\n    for idx in range(len(input_list)):\n\n        min_idx = idx\n        for j in range( idx +1, len(input_list)):\n            if input_list[min_idx] > input_list[j]:\n                min_idx = j\n# Swap the minimum value with the compared value\n\n        input_list[idx], input_list[min_idx] = input_list[min_idx], input_list[idx]\n        print (l)\n\nl = [ 28, 4, 11, 32, 9, 22, 3, 40, 23, 17, 10 ]\nselection_sort(l)\nprint(\"Sorted list\", l)"
        }
    ], 
    "metadata": {
        "kernelspec": {
            "display_name": "Python 3.5", 
            "name": "python3", 
            "language": "python"
        }, 
        "language_info": {
            "mimetype": "text/x-python", 
            "nbconvert_exporter": "python", 
            "version": "3.5.4", 
            "name": "python", 
            "file_extension": ".py", 
            "pygments_lexer": "ipython3", 
            "codemirror_mode": {
                "version": 3, 
                "name": "ipython"
            }
        }
    }, 
    "nbformat": 4
}