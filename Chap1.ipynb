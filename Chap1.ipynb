{
    "nbformat_minor": 2, 
    "cells": [
        {
            "source": "# Intro to Algorithmic Thinking", 
            "cell_type": "markdown", 
            "metadata": {}
        }, 
        {
            "source": "You are watching this into a \"Jupyter notebook\", a special type of document that lives in a browser window \n(later we will refer to it often a \"the notebook\"; bear in mind that it means this document, not your laptop!)\n\nA \"jupyter notebook\" is a format that allows to mix text (such as this) and *code* (as you will see below). \n\nNote that the code will be able to run ONLY IF the Jupyter notebook (this document) is *connected to a server*. \nYou can check if it is the case in the upper-right corner: there should be a \"Kernel\" indication (or \"Python\", or \"Trusted\", or other, depending on the environment).", 
            "cell_type": "markdown", 
            "metadata": {}
        }, 
        {
            "source": "Once your notebook is connected to a server, the code snippets (that you can see in the special boxes, called \"cells\") can be *executed*. \n\nIt generally works by taking a line of code as input, denoted by  In [1] : \n\nThe user gets the code to run by selecting the cell (clicking into it), and pressing SHIFT + ENTER. \nThe result of *executing the code* will then be displayed below, under Out[1] \n\nTry it here: you have in the cell below a simple instruction in the Python language, that will execute a simple addition.\nClick in the cell to activate it, then press SHIFT + ENTER. It will display the result.\n", 
            "cell_type": "markdown", 
            "metadata": {}
        }, 
        {
            "source": "32 + 22", 
            "cell_type": "code", 
            "metadata": {}, 
            "outputs": [], 
            "execution_count": null
        }, 
        {
            "source": "Those cells, in a 'connected' jupyter notebook, are \"live\": \nyou can enter and change ('edit') the content, press shift+enter again, and it will run again with the new parameters.\n\nTry it by inserting new numbers in the cell above, changing the operation, and checking the results.\n", 
            "cell_type": "markdown", 
            "metadata": {}
        }, 
        {
            "source": "## Variables\nVariables are one of the key concepts in any programming language.\nThey are used to store values.\nIn Python, it is easy to define a variable by a statement such as  \" a = 3 \"", 
            "cell_type": "markdown", 
            "metadata": {}
        }, 
        {
            "source": "length = 23\nwidth = 12\nsurface = length * width\n\nprint(surface)", 
            "cell_type": "code", 
            "metadata": {}, 
            "outputs": [], 
            "execution_count": null
        }, 
        {
            "source": "One can use the \"input\" command, in order to ask the user some data to be entered into the program:\n", 
            "cell_type": "markdown", 
            "metadata": {}
        }, 
        {
            "source": "name = input(\"Please enter your name:\")\n\nprint (\"Hello\", name)", 
            "cell_type": "code", 
            "metadata": {}, 
            "outputs": [], 
            "execution_count": null
        }, 
        {
            "source": "All right. Now let's use this input mechanism to calculate an area, like we did above. ", 
            "cell_type": "markdown", 
            "metadata": {}
        }, 
        {
            "source": "length = input (\"Enter the length:\")\nwidth = input (\"Enter the width:\")\nsurface = length * width\n\nprint(surface)", 
            "cell_type": "code", 
            "metadata": {}, 
            "outputs": [], 
            "execution_count": null
        }, 
        {
            "source": "Ouch! Did we just run into some trouble? \n\nWhat happened? Python interpreted the input values as a type \"text\", not as \"numbers\"!\nTherefore, it was not able to multiply two snippets of text. It had as much sense as \"abc\" * \"xyz\".\nNow we can do better !", 
            "cell_type": "markdown", 
            "metadata": {
                "collapsed": true
            }
        }, 
        {
            "source": "length = input (\"Enter the length:\")\nwidth = input (\"Enter the width:\")\nsurface = length * width\n\nprint(surface)", 
            "cell_type": "code", 
            "metadata": {}, 
            "outputs": [], 
            "execution_count": null
        }
    ], 
    "metadata": {
        "kernelspec": {
            "display_name": "Python 3.5", 
            "name": "python3", 
            "language": "python"
        }, 
        "language_info": {
            "mimetype": "text/x-python", 
            "nbconvert_exporter": "python", 
            "version": "3.5.4", 
            "name": "python", 
            "pygments_lexer": "ipython3", 
            "file_extension": ".py", 
            "codemirror_mode": {
                "version": 3, 
                "name": "ipython"
            }
        }, 
        "anaconda-cloud": {}
    }, 
    "nbformat": 4
}